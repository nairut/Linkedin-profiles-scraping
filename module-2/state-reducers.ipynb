{
  "cells": [
    {
      "cell_type": "markdown",
      "id": "36b496da",
      "metadata": {
        "id": "36b496da"
      },
      "source": [
        "[![Open in Colab](https://colab.research.google.com/assets/colab-badge.svg)](https://colab.research.google.com/github/langchain-ai/langchain-academy/blob/main/module-2/state-reducers.ipynb) [![Open in LangChain Academy](https://cdn.prod.website-files.com/65b8cd72835ceeacd4449a53/66e9eba12c7b7688aa3dbb5e_LCA-badge-green.svg)](https://academy.langchain.com/courses/take/intro-to-langgraph/lessons/58239428-lesson-2-state-reducers)"
      ]
    },
    {
      "cell_type": "markdown",
      "id": "b7ae0ff7-497d-4c31-a57a-00fe92799232",
      "metadata": {
        "id": "b7ae0ff7-497d-4c31-a57a-00fe92799232"
      },
      "source": [
        "# State Reducers\n",
        "\n",
        "## Review\n",
        "\n",
        "We covered a few different ways to define LangGraph state schema, including `TypedDict`, `Pydantic`, or `Dataclasses`.\n",
        "\n",
        "## Goals\n",
        "\n",
        "Now, we're going to dive into reducers, which specify how state updates are performed on specific keys / channels in the state schema."
      ]
    },
    {
      "cell_type": "code",
      "execution_count": 4,
      "id": "398c5e8e-641f-4be6-b1e8-7531f86bd2e9",
      "metadata": {
        "id": "398c5e8e-641f-4be6-b1e8-7531f86bd2e9"
      },
      "outputs": [],
      "source": [
        "%%capture --no-stderr\n",
        "%pip install --quiet -U langchain_core langgraph"
      ]
    },
    {
      "cell_type": "markdown",
      "id": "4d5bd534-c5be-48fe-91bc-af39ebee76b7",
      "metadata": {
        "id": "4d5bd534-c5be-48fe-91bc-af39ebee76b7"
      },
      "source": [
        "## Default overwriting state\n",
        "\n",
        "Let's use a `TypedDict` as our state schema."
      ]
    },
    {
      "cell_type": "code",
      "execution_count": 5,
      "id": "64e2438c-9353-4256-bc3c-1bb830374c0b",
      "metadata": {
        "id": "64e2438c-9353-4256-bc3c-1bb830374c0b",
        "outputId": "27c1eedd-5da1-4c5b-f8bf-25c38842e33d",
        "colab": {
          "base_uri": "https://localhost:8080/",
          "height": 251
        }
      },
      "outputs": [
        {
          "output_type": "display_data",
          "data": {
            "image/png": "[encoded data removed]",
            "text/plain": [
              "<IPython.core.display.Image object>"
            ]
          },
          "metadata": {}
        }
      ],
      "source": [
        "from typing_extensions import TypedDict\n",
        "from IPython.display import Image, display\n",
        "from langgraph.graph import StateGraph, START, END\n",
        "\n",
        "class State(TypedDict):\n",
        "    foo: int\n",
        "\n",
        "def node_1(state):\n",
        "    print(\"---Node 1---\")\n",
        "    return {\"foo\": state['foo'] + 1}\n",
        "\n",
        "# Build graph\n",
        "builder = StateGraph(State)\n",
        "builder.add_node(\"node_1\", node_1)\n",
        "\n",
        "# Logic\n",
        "\n",
        "builder.add_edge(START, \"node_1\")\n",
        "builder.add_edge(\"node_1\", END)\n",
        "\n",
        "# Add\n",
        "graph = builder.compile()\n",
        "\n",
        "# View\n",
        "display(Image(graph.get_graph().draw_mermaid_png()))"
      ]
    },
    {
      "cell_type": "code",
      "execution_count": 7,
      "id": "69634df1-4f02-446f-b5cf-6a83d1e15e37",
      "metadata": {
        "id": "69634df1-4f02-446f-b5cf-6a83d1e15e37",
        "outputId": "e82e18a8-2e5a-4ae3-8bf6-62983514aeb8",
        "colab": {
          "base_uri": "https://localhost:8080/"
        }
      },
      "outputs": [
        {
          "output_type": "stream",
          "name": "stdout",
          "text": [
            "---Node 1---\n"
          ]
        },
        {
          "output_type": "execute_result",
          "data": {
            "text/plain": [
              "{'foo': 2}"
            ]
          },
          "metadata": {},
          "execution_count": 7
        }
      ],
      "source": [
        "graph.invoke({\"foo\" : 1})"
      ]
    },
    {
      "cell_type": "markdown",
      "id": "775a099c-c41c-412f-8f05-e7436388ae79",
      "metadata": {
        "id": "775a099c-c41c-412f-8f05-e7436388ae79"
      },
      "source": [
        "3Let's look at the state update, `return {\"foo\": state['foo'] + 1}`.\n",
        "\n",
        "As discussed before, by default LangGraph doesn't know the preferred way to update the state.\n",
        "\n",
        "So, it will just overwrite the value of `foo` in `node_1`:\n",
        "\n",
        "```\n",
        "return {\"foo\": state['foo'] + 1}\n",
        "```\n",
        "\n",
        "If we pass `{'foo': 1}` as input, the state returned from the graph is `{'foo': 2}`.\n",
        "\n",
        "## Branching\n",
        "\n",
        "Let's look at a case where our nodes branch."
      ]
    },
    {
      "cell_type": "code",
      "execution_count": 8,
      "id": "2b8d6ad4-2991-4325-933d-67057bc150f4",
      "metadata": {
        "id": "2b8d6ad4-2991-4325-933d-67057bc150f4",
        "outputId": "8ae596c9-6f1c-4069-e022-853d5709c3d3",
        "colab": {
          "base_uri": "https://localhost:8080/",
          "height": 350
        }
      },
      "outputs": [
        {
          "output_type": "display_data",
          "data": {
            "image/png": "[encoded data removed]",
            "text/plain": [
              "<IPython.core.display.Image object>"
            ]
          },
          "metadata": {}
        }
      ],
      "source": [
        "class State(TypedDict):\n",
        "    foo: int\n",
        "\n",
        "def node_1(state):\n",
        "    print(\"---Node 1---\")\n",
        "    return {\"foo\": state['foo'] + 1}\n",
        "\n",
        "def node_2(state):\n",
        "    print(\"---Node 2---\")\n",
        "    return {\"foo\": state['foo'] + 1}\n",
        "\n",
        "def node_3(state):\n",
        "    print(\"---Node 3---\")\n",
        "    return {\"foo\": state['foo'] + 1}\n",
        "\n",
        "# Build graph\n",
        "builder = StateGraph(State)\n",
        "builder.add_node(\"node_1\", node_1)\n",
        "builder.add_node(\"node_2\", node_2)\n",
        "builder.add_node(\"node_3\", node_3)\n",
        "\n",
        "# Logic\n",
        "builder.add_edge(START, \"node_1\")\n",
        "builder.add_edge(\"node_1\", \"node_2\")\n",
        "builder.add_edge(\"node_1\", \"node_3\")\n",
        "builder.add_edge(\"node_2\", END)\n",
        "builder.add_edge(\"node_3\", END)\n",
        "\n",
        "# Add\n",
        "graph = builder.compile()\n",
        "\n",
        "# View\n",
        "display(Image(graph.get_graph().draw_mermaid_png()))"
      ]
    },
    {
      "cell_type": "code",
      "execution_count": 9,
      "id": "106729b3",
      "metadata": {
        "id": "106729b3",
        "outputId": "a2991e29-e5b3-40eb-eb1f-4bcd16af3ce6",
        "colab": {
          "base_uri": "https://localhost:8080/"
        }
      },
      "outputs": [
        {
          "output_type": "stream",
          "name": "stdout",
          "text": [
            "---Node 1---\n",
            "---Node 3---\n",
            "---Node 2---\n",
            "InvalidUpdateError occurred: At key 'foo': Can receive only one value per step. Use an Annotated key to handle multiple values.\n",
            "For troubleshooting, visit: https://python.langchain.com/docs/troubleshooting/errors/INVALID_CONCURRENT_GRAPH_UPDATE\n"
          ]
        }
      ],
      "source": [
        "from langgraph.errors import InvalidUpdateError\n",
        "try:\n",
        "    graph.invoke({\"foo\" : 1})\n",
        "except InvalidUpdateError as e:\n",
        "    print(f\"InvalidUpdateError occurred: {e}\")\n"
      ]
    },
    {
      "cell_type": "markdown",
      "id": "b9717ccd-3d34-476a-8952-e6a7629ebefe",
      "metadata": {
        "id": "b9717ccd-3d34-476a-8952-e6a7629ebefe"
      },
      "source": [
        "We see a problem!\n",
        "\n",
        "Node 1 branches to nodes 2 and 3.\n",
        "\n",
        "Nodes 2 and 3 run in parallel, which means they run in the same step of the graph.\n",
        "\n",
        "They both attempt to overwrite the state *within the same step*.\n",
        "\n",
        "This is ambiguous for the graph! Which state should it keep?"
      ]
    },
    {
      "cell_type": "markdown",
      "id": "f1609cf7-dc47-4926-a154-77904b6cc550",
      "metadata": {
        "id": "f1609cf7-dc47-4926-a154-77904b6cc550"
      },
      "source": [
        "## Reducers\n",
        "\n",
        "[Reducers](https://langchain-ai.github.io/langgraph/concepts/low_level/#reducers) give us a general way to address this problem.\n",
        "\n",
        "They specify how to perform updates.\n",
        "\n",
        "We can use the `Annotated` type to specify a reducer function.\n",
        "\n",
        "For example, in this case let's append the value returned from each node rather than overwriting them.\n",
        "\n",
        "We just need a reducer that can perform this: `operator.add` is a function from Python's built-in operator module.\n",
        "\n",
        "When `operator.add` is applied to lists, it performs list concatenation."
      ]
    },
    {
      "cell_type": "code",
      "execution_count": 13,
      "id": "103d808c-55ec-44f2-a688-7b5e1572875a",
      "metadata": {
        "id": "103d808c-55ec-44f2-a688-7b5e1572875a",
        "outputId": "79d01e66-d8d5-469c-a6f3-225a0d3a4490",
        "colab": {
          "base_uri": "https://localhost:8080/",
          "height": 251
        }
      },
      "outputs": [
        {
          "output_type": "display_data",
          "data": {
            "image/png": "[encoded data removed]",
            "text/plain": [
              "<IPython.core.display.Image object>"
            ]
          },
          "metadata": {}
        }
      ],
      "source": [
        "from operator import add\n",
        "from typing import Annotated\n",
        "\n",
        "class State(TypedDict):\n",
        "    foo: Annotated[list[int], add]\n",
        "\n",
        "def node_1(state):\n",
        "    print(\"---Node 1---\")\n",
        "    return {\"foo\": [state['foo'][0] + 1]}\n",
        "\n",
        "# Build graph\n",
        "builder = StateGraph(State)\n",
        "builder.add_node(\"node_1\", node_1)\n",
        "\n",
        "# Logic\n",
        "builder.add_edge(START, \"node_1\")\n",
        "builder.add_edge(\"node_1\", END)\n",
        "\n",
        "# Add\n",
        "graph = builder.compile()\n",
        "\n",
        "# View\n",
        "display(Image(graph.get_graph().draw_mermaid_png()))"
      ]
    },
    {
      "cell_type": "code",
      "execution_count": 14,
      "id": "9e68cdff-f6e1-4de5-a7bf-6ca0cfee19bf",
      "metadata": {
        "id": "9e68cdff-f6e1-4de5-a7bf-6ca0cfee19bf",
        "outputId": "54c73933-9893-403b-a9ca-373994eb4797",
        "colab": {
          "base_uri": "https://localhost:8080/",
          "height": 315
        }
      },
      "outputs": [
        {
          "output_type": "stream",
          "name": "stdout",
          "text": [
            "---Node 1---\n"
          ]
        },
        {
          "output_type": "error",
          "ename": "TypeError",
          "evalue": "can only concatenate list (not \"int\") to list",
          "traceback": [
            "\u001b[0;31m---------------------------------------------------------------------------\u001b[0m",
            "\u001b[0;31mTypeError\u001b[0m                                 Traceback (most recent call last)",
            "\u001b[0;32m<ipython-input-14-92f3420f29b8>\u001b[0m in \u001b[0;36m<cell line: 0>\u001b[0;34m()\u001b[0m\n\u001b[0;32m----> 1\u001b[0;31m \u001b[0mgraph\u001b[0m\u001b[0;34m.\u001b[0m\u001b[0minvoke\u001b[0m\u001b[0;34m(\u001b[0m\u001b[0;34m{\u001b[0m\u001b[0;34m\"foo\"\u001b[0m \u001b[0;34m:\u001b[0m \u001b[0;34m[\u001b[0m\u001b[0;36m1\u001b[0m\u001b[0;34m]\u001b[0m\u001b[0;34m}\u001b[0m\u001b[0;34m)\u001b[0m\u001b[0;34m\u001b[0m\u001b[0;34m\u001b[0m\u001b[0m\n\u001b[0m",
            "\u001b[0;32m/usr/local/lib/python3.11/dist-packages/langgraph/pregel/__init__.py\u001b[0m in \u001b[0;36minvoke\u001b[0;34m(self, input, config, stream_mode, output_keys, interrupt_before, interrupt_after, checkpoint_during, debug, **kwargs)\u001b[0m\n\u001b[1;32m   2821\u001b[0m         \u001b[0minterrupts\u001b[0m\u001b[0;34m:\u001b[0m \u001b[0mlist\u001b[0m\u001b[0;34m[\u001b[0m\u001b[0mInterrupt\u001b[0m\u001b[0;34m]\u001b[0m \u001b[0;34m=\u001b[0m \u001b[0;34m[\u001b[0m\u001b[0;34m]\u001b[0m\u001b[0;34m\u001b[0m\u001b[0;34m\u001b[0m\u001b[0m\n\u001b[1;32m   2822\u001b[0m \u001b[0;34m\u001b[0m\u001b[0m\n\u001b[0;32m-> 2823\u001b[0;31m         for chunk in self.stream(\n\u001b[0m\u001b[1;32m   2824\u001b[0m             \u001b[0minput\u001b[0m\u001b[0;34m,\u001b[0m\u001b[0;34m\u001b[0m\u001b[0;34m\u001b[0m\u001b[0m\n\u001b[1;32m   2825\u001b[0m             \u001b[0mconfig\u001b[0m\u001b[0;34m,\u001b[0m\u001b[0;34m\u001b[0m\u001b[0;34m\u001b[0m\u001b[0m\n",
            "\u001b[0;32m/usr/local/lib/python3.11/dist-packages/langgraph/pregel/__init__.py\u001b[0m in \u001b[0;36mstream\u001b[0;34m(self, input, config, stream_mode, output_keys, interrupt_before, interrupt_after, checkpoint_during, debug, subgraphs)\u001b[0m\n\u001b[1;32m   2459\u001b[0m                 \u001b[0;31m# with channel updates applied only at the transition between steps.\u001b[0m\u001b[0;34m\u001b[0m\u001b[0;34m\u001b[0m\u001b[0m\n\u001b[1;32m   2460\u001b[0m                 \u001b[0;32mwhile\u001b[0m \u001b[0mloop\u001b[0m\u001b[0;34m.\u001b[0m\u001b[0mtick\u001b[0m\u001b[0;34m(\u001b[0m\u001b[0minput_keys\u001b[0m\u001b[0;34m=\u001b[0m\u001b[0mself\u001b[0m\u001b[0;34m.\u001b[0m\u001b[0minput_channels\u001b[0m\u001b[0;34m)\u001b[0m\u001b[0;34m:\u001b[0m\u001b[0;34m\u001b[0m\u001b[0;34m\u001b[0m\u001b[0m\n\u001b[0;32m-> 2461\u001b[0;31m                     for _ in runner.tick(\n\u001b[0m\u001b[1;32m   2462\u001b[0m                         \u001b[0mloop\u001b[0m\u001b[0;34m.\u001b[0m\u001b[0mtasks\u001b[0m\u001b[0;34m.\u001b[0m\u001b[0mvalues\u001b[0m\u001b[0;34m(\u001b[0m\u001b[0;34m)\u001b[0m\u001b[0;34m,\u001b[0m\u001b[0;34m\u001b[0m\u001b[0;34m\u001b[0m\u001b[0m\n\u001b[1;32m   2463\u001b[0m                         \u001b[0mtimeout\u001b[0m\u001b[0;34m=\u001b[0m\u001b[0mself\u001b[0m\u001b[0;34m.\u001b[0m\u001b[0mstep_timeout\u001b[0m\u001b[0;34m,\u001b[0m\u001b[0;34m\u001b[0m\u001b[0;34m\u001b[0m\u001b[0m\n",
            "\u001b[0;32m<ipython-input-13-c403cabab540>\u001b[0m in \u001b[0;36mnode_1\u001b[0;34m(state)\u001b[0m\n\u001b[1;32m      7\u001b[0m \u001b[0;32mdef\u001b[0m \u001b[0mnode_1\u001b[0m\u001b[0;34m(\u001b[0m\u001b[0mstate\u001b[0m\u001b[0;34m)\u001b[0m\u001b[0;34m:\u001b[0m\u001b[0;34m\u001b[0m\u001b[0;34m\u001b[0m\u001b[0m\n\u001b[1;32m      8\u001b[0m     \u001b[0mprint\u001b[0m\u001b[0;34m(\u001b[0m\u001b[0;34m\"---Node 1---\"\u001b[0m\u001b[0;34m)\u001b[0m\u001b[0;34m\u001b[0m\u001b[0;34m\u001b[0m\u001b[0m\n\u001b[0;32m----> 9\u001b[0;31m     \u001b[0;32mreturn\u001b[0m \u001b[0;34m{\u001b[0m\u001b[0;34m\"foo\"\u001b[0m\u001b[0;34m:\u001b[0m \u001b[0;34m[\u001b[0m\u001b[0mstate\u001b[0m\u001b[0;34m[\u001b[0m\u001b[0;34m'foo'\u001b[0m\u001b[0;34m]\u001b[0m \u001b[0;34m+\u001b[0m \u001b[0;36m1\u001b[0m\u001b[0;34m]\u001b[0m\u001b[0;34m}\u001b[0m\u001b[0;34m\u001b[0m\u001b[0;34m\u001b[0m\u001b[0m\n\u001b[0m\u001b[1;32m     10\u001b[0m \u001b[0;34m\u001b[0m\u001b[0m\n\u001b[1;32m     11\u001b[0m \u001b[0;31m# Build graph\u001b[0m\u001b[0;34m\u001b[0m\u001b[0;34m\u001b[0m\u001b[0m\n",
            "\u001b[0;31mTypeError\u001b[0m: can only concatenate list (not \"int\") to list"
          ]
        }
      ],
      "source": [
        "graph.invoke({\"foo\" : [1]})"
      ]
    },
    {
      "cell_type": "markdown",
      "id": "63fbd6e0-0207-4049-b86d-c006cbba630b",
      "metadata": {
        "id": "63fbd6e0-0207-4049-b86d-c006cbba630b"
      },
      "source": [
        "Now, our state key `foo` is a list.\n",
        "\n",
        "This `operator.add` reducer function will append updates from each node to this list."
      ]
    },
    {
      "cell_type": "code",
      "execution_count": null,
      "id": "768fd0ed-5e24-44a4-b14d-0e299310e105",
      "metadata": {
        "id": "768fd0ed-5e24-44a4-b14d-0e299310e105",
        "outputId": "8f475b08-a738-4f53-8c80-be16c9fc69cb"
      },
      "outputs": [
        {
          "data": {
            "image/jpeg": "[encoded data removed]",
            "text/plain": [
              "<IPython.core.display.Image object>"
            ]
          },
          "metadata": {},
          "output_type": "display_data"
        }
      ],
      "source": [
        "def node_1(state):\n",
        "    print(\"---Node 1---\")\n",
        "    return {\"foo\": [state['foo'][-1] + 1]}\n",
        "\n",
        "def node_2(state):\n",
        "    print(\"---Node 2---\")\n",
        "    return {\"foo\": [state['foo'][-1] + 1]}\n",
        "\n",
        "def node_3(state):\n",
        "    print(\"---Node 3---\")\n",
        "    return {\"foo\": [state['foo'][-1] + 1]}\n",
        "\n",
        "# Build graph\n",
        "builder = StateGraph(State)\n",
        "builder.add_node(\"node_1\", node_1)\n",
        "builder.add_node(\"node_2\", node_2)\n",
        "builder.add_node(\"node_3\", node_3)\n",
        "\n",
        "# Logic\n",
        "builder.add_edge(START, \"node_1\")\n",
        "builder.add_edge(\"node_1\", \"node_2\")\n",
        "builder.add_edge(\"node_1\", \"node_3\")\n",
        "builder.add_edge(\"node_2\", END)\n",
        "builder.add_edge(\"node_3\", END)\n",
        "\n",
        "# Add\n",
        "graph = builder.compile()\n",
        "\n",
        "# View\n",
        "display(Image(graph.get_graph().draw_mermaid_png()))"
      ]
    },
    {
      "cell_type": "markdown",
      "id": "5439baad-5a75-4188-b936-dbe74cdd9078",
      "metadata": {
        "id": "5439baad-5a75-4188-b936-dbe74cdd9078"
      },
      "source": [
        "We can see that updates in nodes 2 and 3 are performed concurrently because they are in the same step."
      ]
    },
    {
      "cell_type": "code",
      "execution_count": null,
      "id": "44598f97-0a59-4ed4-9d9a-e15a98b3d8fb",
      "metadata": {
        "id": "44598f97-0a59-4ed4-9d9a-e15a98b3d8fb",
        "outputId": "aeb23515-e98b-4e49-8981-e4aa4c0734c2"
      },
      "outputs": [
        {
          "name": "stdout",
          "output_type": "stream",
          "text": [
            "---Node 1---\n",
            "---Node 2---\n",
            "---Node 3---\n"
          ]
        },
        {
          "data": {
            "text/plain": [
              "{'foo': [1, 2, 3, 3]}"
            ]
          },
          "execution_count": 8,
          "metadata": {},
          "output_type": "execute_result"
        }
      ],
      "source": [
        "graph.invoke({\"foo\" : [1]})"
      ]
    },
    {
      "cell_type": "markdown",
      "id": "87faaa07-2955-4466-9bca-4b536e05f260",
      "metadata": {
        "id": "87faaa07-2955-4466-9bca-4b536e05f260"
      },
      "source": [
        "Now, let's see what happens if we pass `None` to `foo`.\n",
        "\n",
        "We see an error because our reducer, `operator.add`, attempts to concatenate `NoneType` pass as input to list in `node_1`."
      ]
    },
    {
      "cell_type": "code",
      "execution_count": null,
      "id": "7f05984b-2bc7-48d1-b070-c8a001a6b59a",
      "metadata": {
        "id": "7f05984b-2bc7-48d1-b070-c8a001a6b59a",
        "outputId": "61c4f1fe-a3c4-4648-f0a3-3775f494715f"
      },
      "outputs": [
        {
          "name": "stdout",
          "output_type": "stream",
          "text": [
            "TypeError occurred: can only concatenate list (not \"NoneType\") to list\n"
          ]
        }
      ],
      "source": [
        "try:\n",
        "    graph.invoke({\"foo\" : None})\n",
        "except TypeError as e:\n",
        "    print(f\"TypeError occurred: {e}\")"
      ]
    },
    {
      "cell_type": "markdown",
      "id": "4f9d4930-ee8f-4ffc-b9e1-3c910b2e15f6",
      "metadata": {
        "id": "4f9d4930-ee8f-4ffc-b9e1-3c910b2e15f6"
      },
      "source": [
        "## Custom Reducers\n",
        "\n",
        "To address cases like this, [we can also define custom reducers](https://langchain-ai.github.io/langgraph/how-tos/subgraph/#custom-reducer-functions-to-manage-state).\n",
        "\n",
        "For example, lets define custom reducer logic to combine lists and handle cases where either or both of the inputs might be `None`."
      ]
    },
    {
      "cell_type": "code",
      "execution_count": null,
      "id": "3314219d-29ff-4b78-b18e-fa9f7878a02f",
      "metadata": {
        "id": "3314219d-29ff-4b78-b18e-fa9f7878a02f"
      },
      "outputs": [],
      "source": [
        "def reduce_list(left: list | None, right: list | None) -> list:\n",
        "    \"\"\"Safely combine two lists, handling cases where either or both inputs might be None.\n",
        "\n",
        "    Args:\n",
        "        left (list | None): The first list to combine, or None.\n",
        "        right (list | None): The second list to combine, or None.\n",
        "\n",
        "    Returns:\n",
        "        list: A new list containing all elements from both input lists.\n",
        "               If an input is None, it's treated as an empty list.\n",
        "    \"\"\"\n",
        "    if not left:\n",
        "        left = []\n",
        "    if not right:\n",
        "        right = []\n",
        "    return left + right\n",
        "\n",
        "class DefaultState(TypedDict):\n",
        "    foo: Annotated[list[int], add]\n",
        "\n",
        "class CustomReducerState(TypedDict):\n",
        "    foo: Annotated[list[int], reduce_list]"
      ]
    },
    {
      "cell_type": "markdown",
      "id": "dcdea26a-38d0-4faf-9bf6-cd52eb902635",
      "metadata": {
        "id": "dcdea26a-38d0-4faf-9bf6-cd52eb902635"
      },
      "source": [
        "In `node_1`, we append the value 2."
      ]
    },
    {
      "cell_type": "code",
      "execution_count": null,
      "id": "f5f270db-6eff-47c9-853b-dfb8108ff28c",
      "metadata": {
        "id": "f5f270db-6eff-47c9-853b-dfb8108ff28c",
        "outputId": "60fabd43-7c71-4235-989e-85a6e9df01f7"
      },
      "outputs": [
        {
          "data": {
            "image/jpeg": "[encoded data removed]",
            "text/plain": [
              "<IPython.core.display.Image object>"
            ]
          },
          "metadata": {},
          "output_type": "display_data"
        },
        {
          "name": "stdout",
          "output_type": "stream",
          "text": [
            "TypeError occurred: can only concatenate list (not \"NoneType\") to list\n"
          ]
        }
      ],
      "source": [
        "def node_1(state):\n",
        "    print(\"---Node 1---\")\n",
        "    return {\"foo\": [2]}\n",
        "\n",
        "# Build graph\n",
        "builder = StateGraph(DefaultState)\n",
        "builder.add_node(\"node_1\", node_1)\n",
        "\n",
        "# Logic\n",
        "builder.add_edge(START, \"node_1\")\n",
        "builder.add_edge(\"node_1\", END)\n",
        "\n",
        "# Add\n",
        "graph = builder.compile()\n",
        "\n",
        "# View\n",
        "display(Image(graph.get_graph().draw_mermaid_png()))\n",
        "\n",
        "try:\n",
        "    print(graph.invoke({\"foo\" : None}))\n",
        "except TypeError as e:\n",
        "    print(f\"TypeError occurred: {e}\")"
      ]
    },
    {
      "cell_type": "markdown",
      "id": "fd21936b-62f1-4311-9ce5-2c7d08aa35bf",
      "metadata": {
        "id": "fd21936b-62f1-4311-9ce5-2c7d08aa35bf"
      },
      "source": [
        "Now, try with our custom reducer. We can see that no error is thrown."
      ]
    },
    {
      "cell_type": "code",
      "execution_count": null,
      "id": "867784bc-796c-4b1e-a4d3-2810395cf5e2",
      "metadata": {
        "id": "867784bc-796c-4b1e-a4d3-2810395cf5e2",
        "outputId": "9824f186-2437-4bd0-9994-729723adde4c"
      },
      "outputs": [
        {
          "data": {
            "image/jpeg": "[encoded data removed]",
            "text/plain": [
              "<IPython.core.display.Image object>"
            ]
          },
          "metadata": {},
          "output_type": "display_data"
        },
        {
          "name": "stdout",
          "output_type": "stream",
          "text": [
            "---Node 1---\n",
            "{'foo': [2]}\n"
          ]
        }
      ],
      "source": [
        "# Build graph\n",
        "builder = StateGraph(CustomReducerState)\n",
        "builder.add_node(\"node_1\", node_1)\n",
        "\n",
        "# Logic\n",
        "builder.add_edge(START, \"node_1\")\n",
        "builder.add_edge(\"node_1\", END)\n",
        "\n",
        "# Add\n",
        "graph = builder.compile()\n",
        "\n",
        "# View\n",
        "display(Image(graph.get_graph().draw_mermaid_png()))\n",
        "\n",
        "try:\n",
        "    print(graph.invoke({\"foo\" : None}))\n",
        "except TypeError as e:\n",
        "    print(f\"TypeError occurred: {e}\")"
      ]
    },
    {
      "cell_type": "markdown",
      "id": "b7ebc65e-c185-4981-a6e7-20fe37d2f8fe",
      "metadata": {
        "id": "b7ebc65e-c185-4981-a6e7-20fe37d2f8fe"
      },
      "source": [
        "## Messages\n",
        "\n",
        "In module 1, we showed how to use a built-in reducer, `add_messages`, to handle messages in state.\n",
        "\n",
        "We also showed that [`MessagesState` is a useful shortcut if you want to work with messages](https://langchain-ai.github.io/langgraph/concepts/low_level/#messagesstate).\n",
        "\n",
        "* `MessagesState` has a built-in `messages` key\n",
        "* It also has a built-in `add_messages` reducer for this key\n",
        "\n",
        "These two are equivalent.\n",
        "\n",
        "We'll use the `MessagesState` class via `from langgraph.graph import MessagesState` for brevity.\n"
      ]
    },
    {
      "cell_type": "code",
      "execution_count": null,
      "id": "901e69e5-c4cb-4d58-82fb-3b7d968758e3",
      "metadata": {
        "id": "901e69e5-c4cb-4d58-82fb-3b7d968758e3"
      },
      "outputs": [],
      "source": [
        "from typing import Annotated\n",
        "from langgraph.graph import MessagesState\n",
        "from langchain_core.messages import AnyMessage\n",
        "from langgraph.graph.message import add_messages\n",
        "\n",
        "# Define a custom TypedDict that includes a list of messages with add_messages reducer\n",
        "class CustomMessagesState(TypedDict):\n",
        "    messages: Annotated[list[AnyMessage], add_messages]\n",
        "    added_key_1: str\n",
        "    added_key_2: str\n",
        "    # etc\n",
        "\n",
        "# Use MessagesState, which includes the messages key with add_messages reducer\n",
        "class ExtendedMessagesState(MessagesState):\n",
        "    # Add any keys needed beyond messages, which is pre-built\n",
        "    added_key_1: str\n",
        "    added_key_2: str\n",
        "    # etc"
      ]
    },
    {
      "cell_type": "markdown",
      "id": "287805e4-722a-4428-b040-2892b29de870",
      "metadata": {
        "id": "287805e4-722a-4428-b040-2892b29de870"
      },
      "source": [
        "Let's talk a bit more about usage of the `add_messages` reducer."
      ]
    },
    {
      "cell_type": "code",
      "execution_count": null,
      "id": "c8f61350-4fe0-4a2b-bb24-9305afb3c668",
      "metadata": {
        "id": "c8f61350-4fe0-4a2b-bb24-9305afb3c668",
        "outputId": "d0721edb-82e7-4e8f-db23-b0a51bd5b4b9"
      },
      "outputs": [
        {
          "data": {
            "text/plain": [
              "[AIMessage(content='Hello! How can I assist you?', name='Model', id='f470d868-cf1b-45b2-ae16-48154cd55c12'),\n",
              " HumanMessage(content=\"I'm looking for information on marine biology.\", name='Lance', id='a07a88c5-cb2a-4cbd-9485-5edb9d658366'),\n",
              " AIMessage(content='Sure, I can help with that. What specifically are you interested in?', name='Model', id='7938e615-86c2-4cbb-944b-c9b2342dee68')]"
            ]
          },
          "execution_count": 13,
          "metadata": {},
          "output_type": "execute_result"
        }
      ],
      "source": [
        "from langgraph.graph.message import add_messages\n",
        "from langchain_core.messages import AIMessage, HumanMessage\n",
        "\n",
        "# Initial state\n",
        "initial_messages = [AIMessage(content=\"Hello! How can I assist you?\", name=\"Model\"),\n",
        "                    HumanMessage(content=\"I'm looking for information on marine biology.\", name=\"Lance\")\n",
        "                   ]\n",
        "\n",
        "# New message to add\n",
        "new_message = AIMessage(content=\"Sure, I can help with that. What specifically are you interested in?\", name=\"Model\")\n",
        "\n",
        "# Test\n",
        "add_messages(initial_messages , new_message)"
      ]
    },
    {
      "cell_type": "markdown",
      "id": "bc492370-0502-43e6-87cc-181c60b3dbdb",
      "metadata": {
        "id": "bc492370-0502-43e6-87cc-181c60b3dbdb"
      },
      "source": [
        "So we can see that `add_messages` allows us to append messages to the `messages` key in our state.\n",
        "\n",
        "### Re-writing\n",
        "\n",
        "Let's show some useful tricks when working with the `add_messages` reducer.\n",
        "\n",
        "If we pass a message with the same ID as an existing one in our `messages` list, it will get overwritten!"
      ]
    },
    {
      "cell_type": "code",
      "execution_count": null,
      "id": "1f6f82fd-a5a8-4e98-80f6-bb058f2acc47",
      "metadata": {
        "id": "1f6f82fd-a5a8-4e98-80f6-bb058f2acc47",
        "outputId": "6f565f30-0ba7-42a3-b31e-faba65a72618"
      },
      "outputs": [
        {
          "data": {
            "text/plain": [
              "[AIMessage(content='Hello! How can I assist you?', name='Model', id='1'),\n",
              " HumanMessage(content=\"I'm looking for information on whales, specifically\", name='Lance', id='2')]"
            ]
          },
          "execution_count": 14,
          "metadata": {},
          "output_type": "execute_result"
        }
      ],
      "source": [
        "# Initial state\n",
        "initial_messages = [AIMessage(content=\"Hello! How can I assist you?\", name=\"Model\", id=\"1\"),\n",
        "                    HumanMessage(content=\"I'm looking for information on marine biology.\", name=\"Lance\", id=\"2\")\n",
        "                   ]\n",
        "\n",
        "# New message to add\n",
        "new_message = HumanMessage(content=\"I'm looking for information on whales, specifically\", name=\"Lance\", id=\"2\")\n",
        "\n",
        "# Test\n",
        "add_messages(initial_messages , new_message)"
      ]
    },
    {
      "cell_type": "markdown",
      "id": "f06e7788-7054-4752-99fe-27ebb901f263",
      "metadata": {
        "id": "f06e7788-7054-4752-99fe-27ebb901f263"
      },
      "source": [
        "### Removal\n",
        "\n",
        "`add_messages` also [enables message removal](https://langchain-ai.github.io/langgraph/how-tos/memory/delete-messages/).\n",
        "\n",
        "For this, we simply use [RemoveMessage](https://api.python.langchain.com/en/latest/messages/langchain_core.messages.modifier.RemoveMessage.html) from `langchain_core`."
      ]
    },
    {
      "cell_type": "code",
      "execution_count": null,
      "id": "67ac97e5-efe2-40bc-9fe3-fd4f50922b8b",
      "metadata": {
        "id": "67ac97e5-efe2-40bc-9fe3-fd4f50922b8b",
        "outputId": "07ba9ca4-3a0a-4bba-99d7-edb5c282838a"
      },
      "outputs": [
        {
          "name": "stdout",
          "output_type": "stream",
          "text": [
            "[RemoveMessage(content='', id='1'), RemoveMessage(content='', id='2')]\n"
          ]
        },
        {
          "name": "stderr",
          "output_type": "stream",
          "text": [
            "/var/folders/l9/bpjxdmfx7lvd1fbdjn38y5dh0000gn/T/ipykernel_17703/3097054180.py:10: LangChainBetaWarning: The class `RemoveMessage` is in beta. It is actively being worked on, so the API may change.\n",
            "  delete_messages = [RemoveMessage(id=m.id) for m in messages[:-2]]\n"
          ]
        }
      ],
      "source": [
        "from langchain_core.messages import RemoveMessage\n",
        "\n",
        "# Message list\n",
        "messages = [AIMessage(\"Hi.\", name=\"Bot\", id=\"1\")]\n",
        "messages.append(HumanMessage(\"Hi.\", name=\"Lance\", id=\"2\"))\n",
        "messages.append(AIMessage(\"So you said you were researching ocean mammals?\", name=\"Bot\", id=\"3\"))\n",
        "messages.append(HumanMessage(\"Yes, I know about whales. But what others should I learn about?\", name=\"Lance\", id=\"4\"))\n",
        "\n",
        "# Isolate messages to delete\n",
        "delete_messages = [RemoveMessage(id=m.id) for m in messages[:-2]]\n",
        "print(delete_messages)"
      ]
    },
    {
      "cell_type": "code",
      "execution_count": null,
      "id": "2d250578-3ec0-452e-91c0-072d785d96db",
      "metadata": {
        "id": "2d250578-3ec0-452e-91c0-072d785d96db",
        "outputId": "48fd8594-20aa-494e-dfab-8f9341aadc89"
      },
      "outputs": [
        {
          "data": {
            "text/plain": [
              "[AIMessage(content='So you said you were researching ocean mammals?', name='Bot', id='3'),\n",
              " HumanMessage(content='Yes, I know about whales. But what others should I learn about?', name='Lance', id='4')]"
            ]
          },
          "execution_count": 16,
          "metadata": {},
          "output_type": "execute_result"
        }
      ],
      "source": [
        "add_messages(messages , delete_messages)"
      ]
    },
    {
      "cell_type": "markdown",
      "id": "5db095c5-6d9a-4e62-a097-0403797511f6",
      "metadata": {
        "id": "5db095c5-6d9a-4e62-a097-0403797511f6"
      },
      "source": [
        "We can see that mesage IDs 1 and 2, as noted in `delete_messages` are removed by the reducer.\n",
        "\n",
        "We'll see this put into practice a bit later."
      ]
    },
    {
      "cell_type": "code",
      "execution_count": null,
      "id": "c8b0347d-cbf0-4164-9cf6-39c4e040a313",
      "metadata": {
        "id": "c8b0347d-cbf0-4164-9cf6-39c4e040a313"
      },
      "outputs": [],
      "source": []
    }
  ],
  "metadata": {
    "kernelspec": {
      "display_name": "Python 3 (ipykernel)",
      "language": "python",
      "name": "python3"
    },
    "language_info": {
      "codemirror_mode": {
        "name": "ipython",
        "version": 3
      },
      "file_extension": ".py",
      "mimetype": "text/x-python",
      "name": "python",
      "nbconvert_exporter": "python",
      "pygments_lexer": "ipython3",
      "version": "3.12.1"
    },
    "colab": {
      "provenance": []
    }
  },
  "nbformat": 4,
  "nbformat_minor": 5
}